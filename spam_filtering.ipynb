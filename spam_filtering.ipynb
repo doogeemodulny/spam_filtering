{
 "cells": [
  {
   "cell_type": "code",
   "execution_count": 105,
   "id": "f77c4af8-9e83-4231-a1df-396d1ee4961b",
   "metadata": {},
   "outputs": [],
   "source": [
    "import pandas as pd\n",
    "import numpy as np\n",
    "import matplotlib.pyplot as plt"
   ]
  },
  {
   "cell_type": "code",
   "execution_count": 73,
   "id": "abb06f17-d475-4dc0-9b29-6b639895d25a",
   "metadata": {},
   "outputs": [
    {
     "name": "stderr",
     "output_type": "stream",
     "text": [
      "[nltk_data] Downloading package words to\n",
      "[nltk_data]     C:\\Users\\Эдуард\\AppData\\Roaming\\nltk_data...\n",
      "[nltk_data]   Package words is already up-to-date!\n",
      "[nltk_data] Downloading package stopwords to\n",
      "[nltk_data]     C:\\Users\\Эдуард\\AppData\\Roaming\\nltk_data...\n",
      "[nltk_data]   Package stopwords is already up-to-date!\n",
      "[nltk_data] Downloading package punkt_tab to\n",
      "[nltk_data]     C:\\Users\\Эдуард\\AppData\\Roaming\\nltk_data...\n",
      "[nltk_data]   Unzipping tokenizers\\punkt_tab.zip.\n"
     ]
    },
    {
     "data": {
      "text/plain": [
       "True"
      ]
     },
     "execution_count": 73,
     "metadata": {},
     "output_type": "execute_result"
    }
   ],
   "source": [
    "import collections\n",
    "import nltk\n",
    "from nltk.tokenize import word_tokenize\n",
    "from nltk.stem import PorterStemmer\n",
    "from nltk.corpus import stopwords, words\n",
    "nltk.download('words')\n",
    "nltk.download('stopwords')\n",
    "nltk.download('punkt_tab')"
   ]
  },
  {
   "cell_type": "code",
   "execution_count": 11,
   "id": "34d213a2-a0d1-49f7-86a6-559439ecf011",
   "metadata": {},
   "outputs": [
    {
     "data": {
      "text/html": [
       "<div>\n",
       "<style scoped>\n",
       "    .dataframe tbody tr th:only-of-type {\n",
       "        vertical-align: middle;\n",
       "    }\n",
       "\n",
       "    .dataframe tbody tr th {\n",
       "        vertical-align: top;\n",
       "    }\n",
       "\n",
       "    .dataframe thead th {\n",
       "        text-align: right;\n",
       "    }\n",
       "</style>\n",
       "<table border=\"1\" class=\"dataframe\">\n",
       "  <thead>\n",
       "    <tr style=\"text-align: right;\">\n",
       "      <th></th>\n",
       "      <th>target</th>\n",
       "      <th>message</th>\n",
       "    </tr>\n",
       "  </thead>\n",
       "  <tbody>\n",
       "    <tr>\n",
       "      <th>0</th>\n",
       "      <td>ham</td>\n",
       "      <td>Go until jurong point, crazy.. Available only ...</td>\n",
       "    </tr>\n",
       "    <tr>\n",
       "      <th>1</th>\n",
       "      <td>ham</td>\n",
       "      <td>Ok lar... Joking wif u oni...</td>\n",
       "    </tr>\n",
       "    <tr>\n",
       "      <th>2</th>\n",
       "      <td>spam</td>\n",
       "      <td>Free entry in 2 a wkly comp to win FA Cup fina...</td>\n",
       "    </tr>\n",
       "    <tr>\n",
       "      <th>3</th>\n",
       "      <td>ham</td>\n",
       "      <td>U dun say so early hor... U c already then say...</td>\n",
       "    </tr>\n",
       "    <tr>\n",
       "      <th>4</th>\n",
       "      <td>ham</td>\n",
       "      <td>Nah I don't think he goes to usf, he lives aro...</td>\n",
       "    </tr>\n",
       "  </tbody>\n",
       "</table>\n",
       "</div>"
      ],
      "text/plain": [
       "  target                                            message\n",
       "0    ham  Go until jurong point, crazy.. Available only ...\n",
       "1    ham                      Ok lar... Joking wif u oni...\n",
       "2   spam  Free entry in 2 a wkly comp to win FA Cup fina...\n",
       "3    ham  U dun say so early hor... U c already then say...\n",
       "4    ham  Nah I don't think he goes to usf, he lives aro..."
      ]
     },
     "execution_count": 11,
     "metadata": {},
     "output_type": "execute_result"
    }
   ],
   "source": [
    "df = pd.read_csv(\"spam.csv\", encoding=\"latin-1\")\n",
    "df = df.dropna(how=\"any\", axis=1)\n",
    "df.columns = ['target', 'message']\n",
    "df.head()"
   ]
  },
  {
   "cell_type": "code",
   "execution_count": 12,
   "id": "f16e2cb3-bd7b-4c3e-8853-9cf465267785",
   "metadata": {},
   "outputs": [
    {
     "data": {
      "text/plain": [
       "(5572, 2)"
      ]
     },
     "execution_count": 12,
     "metadata": {},
     "output_type": "execute_result"
    }
   ],
   "source": [
    "df.shape"
   ]
  },
  {
   "cell_type": "code",
   "execution_count": null,
   "id": "eb85aeaf-0169-4ac9-b3c1-86b6970f1990",
   "metadata": {},
   "outputs": [],
   "source": [
    "\n",
    "\n",
    "\n",
    "\n",
    "\n"
   ]
  },
  {
   "cell_type": "markdown",
   "id": "5df2a1b0-54cf-42ed-b949-0e8a4052f903",
   "metadata": {},
   "source": [
    "## Mapping the target"
   ]
  },
  {
   "cell_type": "code",
   "execution_count": 14,
   "id": "aaec8d2f-8b1c-4b2b-bfe4-d1c06c4ddfc5",
   "metadata": {},
   "outputs": [
    {
     "data": {
      "text/html": [
       "<div>\n",
       "<style scoped>\n",
       "    .dataframe tbody tr th:only-of-type {\n",
       "        vertical-align: middle;\n",
       "    }\n",
       "\n",
       "    .dataframe tbody tr th {\n",
       "        vertical-align: top;\n",
       "    }\n",
       "\n",
       "    .dataframe thead th {\n",
       "        text-align: right;\n",
       "    }\n",
       "</style>\n",
       "<table border=\"1\" class=\"dataframe\">\n",
       "  <thead>\n",
       "    <tr style=\"text-align: right;\">\n",
       "      <th></th>\n",
       "      <th>target</th>\n",
       "      <th>message</th>\n",
       "    </tr>\n",
       "  </thead>\n",
       "  <tbody>\n",
       "    <tr>\n",
       "      <th>0</th>\n",
       "      <td>0</td>\n",
       "      <td>Go until jurong point, crazy.. Available only ...</td>\n",
       "    </tr>\n",
       "    <tr>\n",
       "      <th>1</th>\n",
       "      <td>0</td>\n",
       "      <td>Ok lar... Joking wif u oni...</td>\n",
       "    </tr>\n",
       "    <tr>\n",
       "      <th>2</th>\n",
       "      <td>1</td>\n",
       "      <td>Free entry in 2 a wkly comp to win FA Cup fina...</td>\n",
       "    </tr>\n",
       "    <tr>\n",
       "      <th>3</th>\n",
       "      <td>0</td>\n",
       "      <td>U dun say so early hor... U c already then say...</td>\n",
       "    </tr>\n",
       "    <tr>\n",
       "      <th>4</th>\n",
       "      <td>0</td>\n",
       "      <td>Nah I don't think he goes to usf, he lives aro...</td>\n",
       "    </tr>\n",
       "  </tbody>\n",
       "</table>\n",
       "</div>"
      ],
      "text/plain": [
       "   target                                            message\n",
       "0       0  Go until jurong point, crazy.. Available only ...\n",
       "1       0                      Ok lar... Joking wif u oni...\n",
       "2       1  Free entry in 2 a wkly comp to win FA Cup fina...\n",
       "3       0  U dun say so early hor... U c already then say...\n",
       "4       0  Nah I don't think he goes to usf, he lives aro..."
      ]
     },
     "execution_count": 14,
     "metadata": {},
     "output_type": "execute_result"
    }
   ],
   "source": [
    "df[\"target\"] = df[\"target\"].map({\"ham\":0, \"spam\":1})\n",
    "df.head()"
   ]
  },
  {
   "cell_type": "code",
   "execution_count": null,
   "id": "efc086a1-2b82-4b90-aa82-cccf78ad3d3e",
   "metadata": {},
   "outputs": [],
   "source": [
    "\n",
    "\n",
    "\n",
    "\n",
    "\n"
   ]
  },
  {
   "cell_type": "code",
   "execution_count": 23,
   "id": "c6bbec3a-60bd-4ab9-b482-96bf51b08c01",
   "metadata": {},
   "outputs": [
    {
     "data": {
      "image/png": "[encoded data removed]",
      "text/plain": [
       "<Figure size 640x480 with 1 Axes>"
      ]
     },
     "metadata": {},
     "output_type": "display_data"
    }
   ],
   "source": [
    "spam_ham_count = df[\"target\"].value_counts()\n",
    "plt.pie(spam_ham_count, labels=[\"ham\", \"spam\"], autopct='%1.1f%%')\n",
    "plt.title(\"Spam/non-spam ratio\")\n",
    "plt.show()"
   ]
  },
  {
   "cell_type": "code",
   "execution_count": null,
   "id": "d590857c-9bc6-4d6b-8334-618ae9609573",
   "metadata": {},
   "outputs": [],
   "source": [
    "\n",
    "\n",
    "\n",
    "\n",
    "\n"
   ]
  },
  {
   "cell_type": "markdown",
   "id": "7e407c8b-5002-448f-8f0f-bd3ab43af4e2",
   "metadata": {},
   "source": [
    "## Train-test split"
   ]
  },
  {
   "cell_type": "code",
   "execution_count": 26,
   "id": "aebea23e-bdc3-47ce-8ad1-dbfb74239a28",
   "metadata": {},
   "outputs": [],
   "source": [
    "from sklearn.model_selection import train_test_split"
   ]
  },
  {
   "cell_type": "code",
   "execution_count": 28,
   "id": "da4e45df-fadb-4722-ae19-57b310846c1b",
   "metadata": {},
   "outputs": [],
   "source": [
    "X = pd.DataFrame(df[\"message\"], columns=[\"message\"])\n",
    "y = df[\"target\"]"
   ]
  },
  {
   "cell_type": "code",
   "execution_count": 29,
   "id": "01f0331b-032b-4e50-83f4-ed1a4b7de039",
   "metadata": {},
   "outputs": [],
   "source": [
    "X_train, X_test, y_train, y_test = train_test_split(X, y, stratify=y, random_state=42)"
   ]
  },
  {
   "cell_type": "code",
   "execution_count": null,
   "id": "655a5f71-d7f2-463b-b00d-4086ed701faa",
   "metadata": {},
   "outputs": [],
   "source": []
  },
  {
   "cell_type": "markdown",
   "id": "5d090ca5-d6ed-4050-91eb-59f4ec25566a",
   "metadata": {},
   "source": [
    "## Words Count"
   ]
  },
  {
   "cell_type": "code",
   "execution_count": 31,
   "id": "f46579b4-eaf3-45e3-9386-5cedec76fc55",
   "metadata": {},
   "outputs": [],
   "source": [
    "def count_words(data):\n",
    "    counter = collections.Counter()\n",
    "    for message in data:\n",
    "        for word in message.split(' '):\n",
    "            if word in counter:\n",
    "                counter[word] += 1\n",
    "            else:\n",
    "                counter[word] = 1\n",
    "    return counter"
   ]
  },
  {
   "cell_type": "code",
   "execution_count": 44,
   "id": "2fd90e17-3dd7-47da-a9c6-e025925b9d1e",
   "metadata": {},
   "outputs": [],
   "source": [
    "spam_messages = set(X_train[y_train == True][\"message\"])\n",
    "spam_words = count_words(spam_messages)\n",
    "ham_messages = set(X_train[y_train == False][\"message\"])\n",
    "ham_words = count_words(ham_messages)"
   ]
  },
  {
   "cell_type": "code",
   "execution_count": 49,
   "id": "66c2faa1-8afc-4b9b-96ba-44f2607835a9",
   "metadata": {},
   "outputs": [],
   "source": [
    "def bar_chart_words(words, top=10, messages_type=\"\", color=\"#1f77b4\"):\n",
    "    top_spam = np.array(words.most_common(top))\n",
    "    top_words = top_spam[ : :-1, 0]\n",
    "    top_words_count = [int(i) for i in top_spam[ : :-1, 1]]\n",
    "    if messages_type:\n",
    "        messages_type = messages_type + \" \" \n",
    "    plt.title(f\"Top {top} most common words in {messages_type}messages\")\n",
    "    plt.xlabel(f\"Number of words\")\n",
    "    plt.barh(top_words, top_words_count, color=color)\n",
    "    plt.show()"
   ]
  },
  {
   "cell_type": "code",
   "execution_count": 50,
   "id": "47583668-b311-4979-a432-7733a03598e3",
   "metadata": {},
   "outputs": [
    {
     "data": {
      "image/png": "[encoded data removed]",
      "text/plain": [
       "<Figure size 640x480 with 1 Axes>"
      ]
     },
     "metadata": {},
     "output_type": "display_data"
    }
   ],
   "source": [
    "bar_chart_words(spam_words, top=15, messages_type=\"spam\", color=\"orange\")"
   ]
  },
  {
   "cell_type": "code",
   "execution_count": 52,
   "id": "1a9d2347-6734-49b6-baa3-61db4af47ace",
   "metadata": {},
   "outputs": [
    {
     "data": {
      "image/png": "[encoded data removed]",
      "text/plain": [
       "<Figure size 640x480 with 1 Axes>"
      ]
     },
     "metadata": {},
     "output_type": "display_data"
    }
   ],
   "source": [
    "bar_chart_words(ham_words, top=15, messages_type=\"ham\", color=\"purple\")"
   ]
  },
  {
   "cell_type": "code",
   "execution_count": null,
   "id": "00017dd5-5a3d-4f75-aaf8-f23182da9f6b",
   "metadata": {},
   "outputs": [],
   "source": []
  },
  {
   "cell_type": "markdown",
   "id": "3a5f02ae-2e39-4f02-af92-c3d65186256e",
   "metadata": {},
   "source": [
    "## Most of these words are uninformative. Therefore, we have to preprocess our corpus of texts by removing stop words, articles, punctuation marks, etc."
   ]
  },
  {
   "cell_type": "code",
   "execution_count": null,
   "id": "85bcf37f-64cd-4f82-ac92-79e55401fa98",
   "metadata": {},
   "outputs": [],
   "source": []
  },
  {
   "cell_type": "code",
   "execution_count": 66,
   "id": "a9eb6207-4c94-403f-aaec-f531e8fd9ba2",
   "metadata": {},
   "outputs": [
    {
     "name": "stdout",
     "output_type": "stream",
     "text": [
      "['A', 'a', 'aa', 'aal', 'aalii', 'aam', 'Aani', 'aardvark', 'aardwolf', 'Aaron', 'Aaronic', 'Aaronical', 'Aaronite', 'Aaronitic', 'Aaru', 'Ab', 'aba', 'Ababdeh', 'Ababua', 'abac', 'abaca', 'abacate', 'abacay', 'abacinate', 'abacination', 'abaciscus', 'abacist', 'aback', 'abactinal', 'abactinally', 'abaction', 'abactor', 'abaculus', 'abacus', 'Abadite', 'abaff', 'abaft', 'abaisance', 'abaiser', 'abaissed', 'abalienate', 'abalienation', 'abalone', 'Abama', 'abampere', 'abandon', 'abandonable', 'abandoned', 'abandonedly', 'abandonee', 'abandoner', 'abandonment', 'Abanic', 'Abantes', 'abaptiston', 'Abarambo', 'Abaris', 'abarthrosis', 'abarticular', 'abarticulation', 'abas', 'abase', 'abased', 'abasedly', 'abasedness', 'abasement', 'abaser', 'Abasgi', 'abash', 'abashed', 'abashedly', 'abashedness', 'abashless', 'abashlessly', 'abashment', 'abasia', 'abasic', 'abask', 'Abassin', 'abastardize', 'abatable', 'abate', 'abatement', 'abater', 'abatis', 'abatised', 'abaton', 'abator', 'abattoir', 'Abatua', 'abature', 'abave', 'abaxial', 'abaxile', 'abaze', 'abb', 'Abba', 'abbacomes', 'abbacy', 'Abbadide']\n"
     ]
    }
   ],
   "source": [
    "eng_words = words.words()\n",
    "print(eng_words[:100])\n",
    "wordlist = set(eng_words)"
   ]
  },
  {
   "cell_type": "code",
   "execution_count": 69,
   "id": "2d07b217-e786-47f7-8d27-0d799d042597",
   "metadata": {},
   "outputs": [],
   "source": [
    "stop_words = stopwords.words('english')"
   ]
  },
  {
   "cell_type": "code",
   "execution_count": null,
   "id": "c2106bb5-9186-46da-b2cf-0b2a502ae593",
   "metadata": {},
   "outputs": [],
   "source": []
  },
  {
   "cell_type": "code",
   "execution_count": 77,
   "id": "b8cc4d1f-2f7b-42ac-91cb-6fe6dd629bd8",
   "metadata": {},
   "outputs": [],
   "source": [
    "def process_message(message):  \n",
    "    words = message.lower() # lowercase\n",
    "    words = word_tokenize(words) # tokenization\n",
    "    words = [word for word in words if len(word) > 1] # non one-letter words          \n",
    "    words = [word for word in words if word not in stop_words] # non stop words\n",
    "    words = [word for word in words if word in wordlist] # english words\n",
    "    words = [PorterStemmer().stem(word) for word in words] # stemming\n",
    "    return words"
   ]
  },
  {
   "cell_type": "code",
   "execution_count": 78,
   "id": "81c3bd41-ced6-4205-a4b4-4a8d66a49902",
   "metadata": {},
   "outputs": [],
   "source": [
    "def count_processed_words(data):\n",
    "    counter = collections.Counter()\n",
    "    for message in data:\n",
    "        words = process_message(message)\n",
    "        for word in set(words):           \n",
    "            if word in counter:\n",
    "                counter[word] += 1\n",
    "            else:\n",
    "                counter[word] = 1\n",
    "    return counter"
   ]
  },
  {
   "cell_type": "code",
   "execution_count": 79,
   "id": "3bbb0891-f48f-4989-869b-6361abba482d",
   "metadata": {},
   "outputs": [],
   "source": [
    "spam_words = count_processed_words(spam_messages)\n",
    "ham_words = count_processed_words(ham_messages)"
   ]
  },
  {
   "cell_type": "code",
   "execution_count": 80,
   "id": "aa510d4d-095e-4505-b36e-23f1834c109a",
   "metadata": {},
   "outputs": [
    {
     "data": {
      "text/plain": [
       "[('call', 219),\n",
       " ('free', 115),\n",
       " ('ur', 79),\n",
       " ('claim', 72),\n",
       " ('mobil', 68),\n",
       " ('repli', 67),\n",
       " ('stop', 65),\n",
       " ('text', 65),\n",
       " ('get', 55),\n",
       " ('prize', 51),\n",
       " ('new', 50),\n",
       " ('urgent', 44),\n",
       " ('send', 44),\n",
       " ('cash', 41),\n",
       " ('win', 41),\n",
       " ('pleas', 40),\n",
       " ('collect', 39),\n",
       " ('servic', 39),\n",
       " ('contact', 37),\n",
       " ('phone', 33),\n",
       " ('per', 32),\n",
       " ('tri', 30),\n",
       " ('draw', 29),\n",
       " ('custom', 28),\n",
       " ('tone', 27)]"
      ]
     },
     "execution_count": 80,
     "metadata": {},
     "output_type": "execute_result"
    }
   ],
   "source": [
    "spam_words.most_common(25)"
   ]
  },
  {
   "cell_type": "code",
   "execution_count": null,
   "id": "abe20161-aa72-4aee-9a47-565ca7d5aac0",
   "metadata": {},
   "outputs": [],
   "source": []
  },
  {
   "cell_type": "code",
   "execution_count": null,
   "id": "d2d98250-ba87-4151-a825-be13f3a15a60",
   "metadata": {},
   "outputs": [],
   "source": []
  },
  {
   "cell_type": "markdown",
   "id": "011f67c3-26e6-4324-88f0-c753d1eb7624",
   "metadata": {},
   "source": [
    "# I. Spam Classification with Naive Bayes"
   ]
  },
  {
   "cell_type": "code",
   "execution_count": 81,
   "id": "2c30d03d-55ce-476e-a38a-1fa32da4dcd1",
   "metadata": {},
   "outputs": [],
   "source": [
    "spam_messages = [i for i in spam_messages if len(process_message(i)) >= 1]\n",
    "ham_messages = [i for i in ham_messages if len(process_message(i)) >= 1]\n",
    "all_messages = spam_messages + ham_messages\n",
    "all_words = count_processed_words(all_messages)"
   ]
  },
  {
   "cell_type": "markdown",
   "id": "6e0ff6df-e5fb-47bf-8ca9-7ee0048682ac",
   "metadata": {},
   "source": [
    "### Bayes Theorem\n",
    "$$P(S|W)= \\frac{P(W|S)⋅P(S)}{P(W|S)⋅P(S)+P(W|H)⋅P(H)}$$,\n",
    " \n",
    "where,\n",
    "\n",
    "* $ P(S|W) $ is the probability that a message is a spam, knowing that a specific word is in it;\n",
    "* $ P(W|S) $ is the probability that the specific word appears in spam messages;\n",
    "* $ P(S) $ is the overall probability that any given message is spam;\n",
    "* $ P(W|H) $ is the probability that the specific word appears in ham messages;\n",
    "* $ P(H) $ is the overall probability that any given message is ham."
   ]
  },
  {
   "cell_type": "code",
   "execution_count": null,
   "id": "1d63862a-f266-4f77-b470-cdf814c4e462",
   "metadata": {},
   "outputs": [],
   "source": []
  },
  {
   "cell_type": "markdown",
   "id": "eb45e055-9ea2-49d5-935f-5fcfcc6a2c6d",
   "metadata": {},
   "source": [
    "#### But we want our filter to be unbiased toward incoming email, so we are going to assume that the probabilities of receiving both spam and ham are equal to 50%. This allows us to simplify the formula to the following:\n",
    "\n",
    "$$ P(S|W)=\\frac{P(W|S)}{P(W|S)+P(W|H)}$$\n",
    " \n",
    "#### Our training dataset already has some marked mail, so we know the total number of spam and ham messages. All that's left to do is count in how many of the spam and ham messages respectively, the specific word is present.\n",
    "\n",
    "$$\n",
    "P(W|S) = \\frac{\\text{spam messages containing the word}}{\\text{all messages containing the word}}\n",
    "$$\n",
    "\n",
    " \n",
    "$$\n",
    "P(W|H) = \\frac{\\text{ham messages containing the word}}{\\text{all messages containing the word}}\n",
    "$$\n"
   ]
  },
  {
   "cell_type": "code",
   "execution_count": null,
   "id": "91d271b6-b1f4-4964-b5e9-1f18db43981c",
   "metadata": {},
   "outputs": [],
   "source": []
  },
  {
   "cell_type": "markdown",
   "id": "1e5c8c1d-e98a-4b35-84ad-c7618ae68ecc",
   "metadata": {},
   "source": [
    "#### Now, words in a message are usually not independent of each other, but for simplicity's sake we're going to assume that they are. Bearing that in mind, we can get the spam probability of the message if we combine the spam probabilities of all the words in it like this:\n",
    "\n",
    "$$p=\\frac{p1p2⋯pN}{p1p2⋯pN+(1−p1)(1−p2)⋯(1−pN)}$$\n",
    " \n",
    "where,\n",
    "\n",
    "* $ p $ is the probability that the suspect message is spam;\n",
    "* $ p_{1} $ is the probability $ p(S|W_{1}) $ that it is a spam knowing it contains some first word;\n",
    "* $ p_{2} $ is the probability $ p(S|W_{2}) $ that it is a spam knowing it contains some second word;\n",
    "* $ p_{n} $ is the probability $ p(S|W_{N}) $ that it is a spam knowing it contains some Nth word."
   ]
  },
  {
   "cell_type": "code",
   "execution_count": null,
   "id": "59704bf4-ac2b-4638-8412-9ba8694c3fa4",
   "metadata": {},
   "outputs": [],
   "source": []
  },
  {
   "cell_type": "markdown",
   "id": "52191161-bd68-4246-b606-b71a611c1d1d",
   "metadata": {},
   "source": [
    "#### In order to avoid floating-point underflow, we are going to use the alternative form of the formula which looks like this:\n",
    "####    $p=1/(1+e^η)$\n",
    " \n",
    "####    where,\n",
    "$$\n",
    "\\eta = \\sum_{i=1}^{n} \\ln(1 - p_i) - \\ln(p_i)\n",
    "$$\n",
    " \n",
    "#### What happens if we get a word that was never encountered in the learning phase? We get $ \\frac{0}{0} $. That's why we're going to ignore such words and carry on. Rare words also cause problems to our calculations and a way to deal with this is to use a corrected probability:\n",
    "\n",
    "$$P'(S|W) = \\frac{s⋅P(S)+n⋅P(S|W)}{(s+n)}$$\n",
    " \n",
    "####    where,\n",
    "\n",
    "* $ P'(S | W) $ is the corrected probability for the message to be spam, knowing that it contains a given word;\n",
    "* $ s $ is the strength we give to background information about incoming spam;\n",
    "* $ P(S) $ is the probability of any incoming message to be spam;\n",
    "* $ n $ is the number of occurrences of this word during the learning phase;\n",
    "* $ P(S|W) $ is the spaminess of this word.\n",
    "#### We use this corrected probability instead of the spaminess of the word and finally we get the probability that a message is spam. If it's greater than 50%, we classify the message as spam.\n",
    "\n"
   ]
  },
  {
   "cell_type": "code",
   "execution_count": 99,
   "id": "d8a700c0-118e-4f49-98f4-2a9c2d2f2a4f",
   "metadata": {},
   "outputs": [],
   "source": [
    "def spam(message, s=1, p=0.5):\n",
    "    n = 0\n",
    "    spam_freq = 0\n",
    "    ham_freq = 0\n",
    "    \n",
    "    for word in process_message(message):\n",
    "        if word in spam_words.keys(): \n",
    "            spam_freq = (spam_words[word] / all_words[word])\n",
    "            \n",
    "        if word in ham_words.keys():\n",
    "            ham_freq = (ham_words[word] / all_words[word])\n",
    "            \n",
    "        # if word is not in trained dataset we ignore it    \n",
    "        if not (spam_freq + ham_freq) == 0 and word in all_words.keys(): \n",
    "            spaminess_of_word = (spam_freq ) / (spam_freq  + ham_freq )\n",
    "            corr_spaminess = (s * p + all_words[word] * spaminess_of_word) / (s + all_words[word])            \n",
    "            n += np.log(1 - corr_spaminess) - np.log(corr_spaminess)\n",
    "\n",
    "    spam_result = 1 / (1 + np.e**n)\n",
    "    \n",
    "    return spam_result"
   ]
  },
  {
   "cell_type": "code",
   "execution_count": 100,
   "id": "5b375b65-f8af-45df-a6c8-9a004235a1cf",
   "metadata": {},
   "outputs": [
    {
     "data": {
      "text/plain": [
       "0.9998851421241245"
      ]
     },
     "execution_count": 100,
     "metadata": {},
     "output_type": "execute_result"
    }
   ],
   "source": [
    "spam(\"Mr. John, you've won the prize. To claim it, please call this number\")"
   ]
  },
  {
   "cell_type": "code",
   "execution_count": 101,
   "id": "1df1e2b9-a4e5-4d32-b94e-35865ca70641",
   "metadata": {},
   "outputs": [
    {
     "data": {
      "text/plain": [
       "0.0008458151987770144"
      ]
     },
     "execution_count": 101,
     "metadata": {},
     "output_type": "execute_result"
    }
   ],
   "source": [
    "spam(\"Hey Mr. John, we have evaluated your resume and are ready to invite you for an interview at our company.\")"
   ]
  },
  {
   "cell_type": "code",
   "execution_count": 102,
   "id": "ba7cf538-2286-4b0a-a383-f1bdc45502df",
   "metadata": {},
   "outputs": [
    {
     "data": {
      "text/plain": [
       "0.004584044676020958"
      ]
     },
     "execution_count": 102,
     "metadata": {},
     "output_type": "execute_result"
    }
   ],
   "source": [
    "spam(\"Call me when you get home\")"
   ]
  },
  {
   "cell_type": "code",
   "execution_count": 103,
   "id": "88f33809-224f-432b-be2a-d498d9546a0e",
   "metadata": {},
   "outputs": [
    {
     "data": {
      "text/plain": [
       "0.21401558052729533"
      ]
     },
     "execution_count": 103,
     "metadata": {},
     "output_type": "execute_result"
    }
   ],
   "source": [
    "spam(\"Call me now to win a FREE home!\")"
   ]
  },
  {
   "cell_type": "code",
   "execution_count": 104,
   "id": "f84d59bc-9eea-4399-9317-48faf5d4f9c1",
   "metadata": {},
   "outputs": [
    {
     "data": {
      "text/plain": [
       "0.9870902584596102"
      ]
     },
     "execution_count": 104,
     "metadata": {},
     "output_type": "execute_result"
    }
   ],
   "source": [
    "spam(\"Call now to win a FREE prize!\")"
   ]
  },
  {
   "cell_type": "code",
   "execution_count": null,
   "id": "3a70a336-94e1-4f4a-ade6-ecb5bc777dfe",
   "metadata": {},
   "outputs": [],
   "source": []
  },
  {
   "cell_type": "markdown",
   "id": "05de6586-4c05-4ca7-ba15-476af782872a",
   "metadata": {},
   "source": [
    "# Testing"
   ]
  },
  {
   "cell_type": "code",
   "execution_count": 124,
   "id": "f416b207-6182-4463-889b-d145c9d78418",
   "metadata": {},
   "outputs": [],
   "source": [
    "from sklearn.metrics import classification_report"
   ]
  },
  {
   "cell_type": "code",
   "execution_count": 137,
   "id": "5d5ba393-0718-4747-9d45-e7333c4bf376",
   "metadata": {},
   "outputs": [],
   "source": [
    "def classification_quality_report(X_test, y_test, classification_func, threshold=0.5):\n",
    "    y_pred = (X_test[\"message\"].apply(classification_func) > threshold).astype(np.int64)\n",
    "    y_test.astype(np.int64)\n",
    "    print(metrics.classification_report(y_test, y_pred, target_names=[\"ham\", \"spam\"]))"
   ]
  },
  {
   "cell_type": "code",
   "execution_count": 138,
   "id": "b2529b2c-1700-48b1-88f2-3e17085b4ca6",
   "metadata": {},
   "outputs": [
    {
     "name": "stdout",
     "output_type": "stream",
     "text": [
      "              precision    recall  f1-score   support\n",
      "\n",
      "         ham       0.94      0.99      0.97      1206\n",
      "        spam       0.93      0.63      0.75       187\n",
      "\n",
      "    accuracy                           0.94      1393\n",
      "   macro avg       0.94      0.81      0.86      1393\n",
      "weighted avg       0.94      0.94      0.94      1393\n",
      "\n"
     ]
    }
   ],
   "source": [
    "classification_quality_report(X_test, y_test, spam)"
   ]
  },
  {
   "cell_type": "markdown",
   "id": "5efef383-7afb-42de-98a3-885b02be8e02",
   "metadata": {},
   "source": [
    "#### testing on whole dataset"
   ]
  },
  {
   "cell_type": "code",
   "execution_count": 139,
   "id": "70446cd7-0130-49fb-b3fc-093dab1e950f",
   "metadata": {},
   "outputs": [
    {
     "name": "stdout",
     "output_type": "stream",
     "text": [
      "              precision    recall  f1-score   support\n",
      "\n",
      "         ham       0.95      0.99      0.97      4825\n",
      "        spam       0.92      0.65      0.76       747\n",
      "\n",
      "    accuracy                           0.95      5572\n",
      "   macro avg       0.93      0.82      0.87      5572\n",
      "weighted avg       0.94      0.95      0.94      5572\n",
      "\n"
     ]
    }
   ],
   "source": [
    "classification_quality_report(X, y, spam)"
   ]
  },
  {
   "cell_type": "code",
   "execution_count": null,
   "id": "bfa6eba1-3bad-4d92-88ca-3f2c24a34054",
   "metadata": {},
   "outputs": [],
   "source": []
  },
  {
   "cell_type": "code",
   "execution_count": null,
   "id": "d4a2ee04-581d-460d-b324-123c30cb91b0",
   "metadata": {},
   "outputs": [],
   "source": []
  },
  {
   "cell_type": "code",
   "execution_count": null,
   "id": "d25096dd-cbed-4863-a942-44e98effe1fb",
   "metadata": {},
   "outputs": [],
   "source": []
  },
  {
   "cell_type": "markdown",
   "id": "9a4c94e8-62fa-451f-a95a-e83f12b0e2d5",
   "metadata": {},
   "source": [
    "# II. Bag-of-words vectorization of messages"
   ]
  },
  {
   "cell_type": "code",
   "execution_count": 177,
   "id": "821baba1-518e-47ee-afe9-6c9efc9ff2d5",
   "metadata": {},
   "outputs": [],
   "source": [
    "from sklearn.feature_extraction.text import CountVectorizer\n",
    "\n",
    "vect = CountVectorizer()"
   ]
  },
  {
   "cell_type": "code",
   "execution_count": 178,
   "id": "d2fb9e60-fe76-4670-a787-ba49f7c489d5",
   "metadata": {},
   "outputs": [
    {
     "name": "stdout",
     "output_type": "stream",
     "text": [
      "<class 'scipy.sparse._csr.csr_matrix'> (4179, 7465)\n",
      "<class 'scipy.sparse._csr.csr_matrix'> (1393, 7465)\n"
     ]
    }
   ],
   "source": [
    "X_train_dtm = vect.fit_transform(X_train[\"message\"])\n",
    "X_test_dtm = vect.transform(X_test[\"message\"])\n",
    "\n",
    "print(type(X_train_dtm), X_train_dtm.shape)\n",
    "print(type(X_test_dtm), X_test_dtm.shape)"
   ]
  },
  {
   "cell_type": "code",
   "execution_count": 179,
   "id": "6e5d59f0-dc6e-43d3-a096-c28cee9314f2",
   "metadata": {},
   "outputs": [],
   "source": [
    "from sklearn.naive_bayes import MultinomialNB\n",
    "nb = MultinomialNB().fit(X_train_dtm, y_train)"
   ]
  },
  {
   "cell_type": "code",
   "execution_count": 180,
   "id": "8ed9562b-790e-4eb4-b601-9f7bb2c4a429",
   "metadata": {},
   "outputs": [
    {
     "name": "stdout",
     "output_type": "stream",
     "text": [
      "              precision    recall  f1-score   support\n",
      "\n",
      "           0       0.99      1.00      0.99      1206\n",
      "           1       0.98      0.91      0.94       187\n",
      "\n",
      "    accuracy                           0.99      1393\n",
      "   macro avg       0.98      0.96      0.97      1393\n",
      "weighted avg       0.99      0.99      0.99      1393\n",
      "\n"
     ]
    }
   ],
   "source": [
    "y_pred_class = nb.predict(X_test_dtm)\n",
    "\n",
    "print(metrics.classification_report(y_test, y_pred_class))"
   ]
  },
  {
   "cell_type": "code",
   "execution_count": null,
   "id": "7c75cb98-c66c-4f8e-ac04-03a7e35e159e",
   "metadata": {},
   "outputs": [],
   "source": []
  },
  {
   "cell_type": "code",
   "execution_count": null,
   "id": "005516a5-2f9b-4715-9fcb-acea56e9c4e5",
   "metadata": {},
   "outputs": [],
   "source": []
  },
  {
   "cell_type": "code",
   "execution_count": null,
   "id": "75f91242-b4f6-4a69-9922-d858cc96754c",
   "metadata": {},
   "outputs": [],
   "source": []
  },
  {
   "cell_type": "markdown",
   "id": "70c11ba6-4401-4aba-b9c0-4f7839a5f1dd",
   "metadata": {},
   "source": [
    "# III. TF-IDF "
   ]
  },
  {
   "cell_type": "code",
   "execution_count": 185,
   "id": "eff5cfd3-cb76-414a-baa5-dc4d1a4018d9",
   "metadata": {},
   "outputs": [
    {
     "name": "stdout",
     "output_type": "stream",
     "text": [
      "              precision    recall  f1-score   support\n",
      "\n",
      "           0       0.95      1.00      0.98      1206\n",
      "           1       1.00      0.67      0.81       187\n",
      "\n",
      "    accuracy                           0.96      1393\n",
      "   macro avg       0.98      0.84      0.89      1393\n",
      "weighted avg       0.96      0.96      0.95      1393\n",
      "\n"
     ]
    }
   ],
   "source": [
    "from sklearn.feature_extraction.text import TfidfTransformer\n",
    "from sklearn.pipeline import Pipeline\n",
    "\n",
    "pipe = Pipeline([('bow', CountVectorizer()), \n",
    "                 ('tfid', TfidfTransformer()),  \n",
    "                 ('model', MultinomialNB())])\n",
    "\n",
    "pipe.fit(X_train[\"message\"], y_train)\n",
    "y_pred = pipe.predict(X_test[\"message\"])\n",
    "\n",
    "print(metrics.classification_report(y_test, y_pred))"
   ]
  },
  {
   "cell_type": "code",
   "execution_count": null,
   "id": "b8f93f40-eae1-459b-8f5d-fd8ba25af276",
   "metadata": {},
   "outputs": [],
   "source": []
  }
 ],
 "metadata": {
  "kernelspec": {
   "display_name": "Python 3 (ipykernel)",
   "language": "python",
   "name": "python3"
  },
  "language_info": {
   "codemirror_mode": {
    "name": "ipython",
    "version": 3
   },
   "file_extension": ".py",
   "mimetype": "text/x-python",
   "name": "python",
   "nbconvert_exporter": "python",
   "pygments_lexer": "ipython3",
   "version": "3.12.5"
  }
 },
 "nbformat": 4,
 "nbformat_minor": 5
}
